{
 "cells": [
  {
   "cell_type": "markdown",
   "id": "humanitarian-criterion",
   "metadata": {},
   "source": [
    "__Libraries__"
   ]
  },
  {
   "cell_type": "code",
   "execution_count": 1,
   "id": "fleet-martin",
   "metadata": {},
   "outputs": [],
   "source": [
    "from pyspark import SparkContext\n",
    "from pyspark.sql import SparkSession, Row\n",
    "from pyspark.sql.types import StructType\n",
    "from pyspark.sql.functions import monotonically_increasing_id, row_number\n",
    "from pyspark.sql.window import Window"
   ]
  },
  {
   "cell_type": "code",
   "execution_count": 2,
   "id": "medieval-champion",
   "metadata": {},
   "outputs": [],
   "source": [
    "from geopy.geocoders import Nominatim\n",
    "import geopy\n",
    "from geopy.extra.rate_limiter import RateLimiter\n",
    "geopy.geocoders.options.default_user_agent = \"BDBA\"\n",
    "from tqdm import tqdm"
   ]
  },
  {
   "cell_type": "markdown",
   "id": "sized-telescope",
   "metadata": {},
   "source": [
    "__Open Environment__"
   ]
  },
  {
   "cell_type": "code",
   "execution_count": 3,
   "id": "recorded-palace",
   "metadata": {},
   "outputs": [],
   "source": [
    "sc = SparkContext(appName=\"SparkforEachRDDapp\")\n",
    "spark = SparkSession(sc)"
   ]
  },
  {
   "cell_type": "markdown",
   "id": "developing-workplace",
   "metadata": {},
   "source": [
    "__Read Data__"
   ]
  },
  {
   "cell_type": "code",
   "execution_count": 4,
   "id": "biological-northeast",
   "metadata": {},
   "outputs": [
    {
     "name": "stdout",
     "output_type": "stream",
     "text": [
      "+-------------+-------------+------------------+-------------------+----------+---------------+\n",
      "|accelerometer| datetime_utc|          latitude|          longitude|vehicle_id|   vehicle_type|\n",
      "+-------------+-------------+------------------+-------------------+----------+---------------+\n",
      "|          166|1.588490942E9| 40.57007465863976|-3.6071938480844157|  9263 QVR|           taxi|\n",
      "|          133|1.588489965E9| 40.44546287335486|-3.5125486436404882|  2895 YDK|            bus|\n",
      "|          162|1.588490498E9| 40.30815660225567| -3.909501918887368|  6030 ZFZ|private_vehicle|\n",
      "|            8|1.588490703E9| 40.47042101938655|-3.4346389045623913|  9731 WXJ|          truck|\n",
      "|           56|1.588490768E9| 40.41651432933575| -3.916999450399277|  3719 XBS|            bus|\n",
      "|           13|1.588490117E9| 40.42268107917671| -3.482537435543491|  8147 BPF|private_vehicle|\n",
      "|          119|1.588490066E9| 40.55716134032274| -3.633252828413418|  5823 WMS|            bus|\n",
      "|          164| 1.58848948E9| 40.44211686617688|-3.8296335336151293|  9004 SWS|          truck|\n",
      "|           10|1.588489499E9|40.278834809179024|-3.8680087495362443|  4990 FYZ|          truck|\n",
      "|           37|1.588489514E9| 40.55624580290674| -3.830169858736617|  3800 BYQ|           taxi|\n",
      "|          158|1.588490885E9|40.365424474175065|-3.5055162695912654|  2438 ZHK|          truck|\n",
      "|          137|1.588490993E9| 40.45153290902815|-3.7322600335322087|  1898 VRM|private_vehicle|\n",
      "|          161|1.588489556E9| 40.34332621872282|-3.6009947179145136|  7866 DTJ|           taxi|\n",
      "|           88|1.588490928E9|40.296686171830316| -3.730661821063543|  2895 KQB|private_vehicle|\n",
      "|           71|1.588489555E9|40.295571690880024| -3.822781484677027|  3967 MRN|           taxi|\n",
      "|           80|1.588490419E9|40.555456356417395|-3.5098996785802057|  2093 FTY|            bus|\n",
      "|           60|1.588490967E9| 40.24278794581995|-3.8752882313121058|  6922 MQT|private_vehicle|\n",
      "|          162|1.588489669E9|40.608376368138984| -3.732645244041724|  0711 SFN|           taxi|\n",
      "|          154|1.588489679E9|40.227314141490545|-3.8213862707865354|  3255 YWG|          truck|\n",
      "|           29|1.588490058E9|40.618205498772795|-3.8861302158396955|  8873 QHM|private_vehicle|\n",
      "+-------------+-------------+------------------+-------------------+----------+---------------+\n",
      "only showing top 20 rows\n",
      "\n"
     ]
    }
   ],
   "source": [
    "vehic= spark.read.json('vehicles.json')\n",
    "vehic.show()"
   ]
  },
  {
   "cell_type": "code",
   "execution_count": 5,
   "id": "threaded-exclusion",
   "metadata": {},
   "outputs": [
    {
     "name": "stdout",
     "output_type": "stream",
     "text": [
      "+------------+---------+------------+--------------------+\n",
      "|has_bus_lane|min_speed|number_lanes|           road_name|\n",
      "+------------+---------+------------+--------------------+\n",
      "|           0|       25|           1|                 A-3|\n",
      "|           0|       50|           4|               AP-41|\n",
      "|           0|       60|           1|Acceso Parque de ...|\n",
      "|           1|       50|           3|Acceso a la Colon...|\n",
      "|           1|       60|           1|    Acequia Quintano|\n",
      "|           0|       25|           1|Aeropuerto T1 Sal...|\n",
      "|           1|       60|           2|Aeropuerto T4 Lle...|\n",
      "|           1|       25|           3|Aeropuerto T4 Lle...|\n",
      "|           1|       25|           2|Anillo Verde Cicl...|\n",
      "|           0|       25|           1|       Antigua M-111|\n",
      "|           0|       50|           3|       Antigua M-506|\n",
      "|           0|       60|           4|Autopista Radial R-2|\n",
      "|           1|       25|           2|Autopista radial ...|\n",
      "|           1|       25|           3|Autovía Villavici...|\n",
      "|           1|       25|           1| Autovía de Colmenar|\n",
      "|           1|       60|           2|   Autovía de Toledo|\n",
      "|           0|       50|           2|Autovía de los Pa...|\n",
      "|           0|       60|           4|    Autovía del Este|\n",
      "|           0|       50|           3|Autovía del Nordeste|\n",
      "|           0|       50|           1|Autovía del Noroeste|\n",
      "+------------+---------+------------+--------------------+\n",
      "only showing top 20 rows\n",
      "\n"
     ]
    }
   ],
   "source": [
    "roads= spark.read.json('roads.json')\n",
    "roads.show()"
   ]
  },
  {
   "cell_type": "markdown",
   "id": "lovely-bench",
   "metadata": {},
   "source": [
    "**Get Road Names**"
   ]
  },
  {
   "cell_type": "code",
   "execution_count": 6,
   "id": "configured-violin",
   "metadata": {},
   "outputs": [],
   "source": [
    "def road_from_coord(lat, lon):\n",
    "    coordinates= str(lat)+ ','+str(lon)\n",
    "    #10 mins maximum timeout to prevent being blocked\n",
    "    locator = Nominatim(timeout=10)\n",
    "    rgeocode = RateLimiter(locator.reverse, min_delay_seconds=0.001)\n",
    "    location = rgeocode(coordinates)\n",
    "    return(location.raw['address']['road'])"
   ]
  },
  {
   "cell_type": "code",
   "execution_count": 7,
   "id": "naval-casino",
   "metadata": {},
   "outputs": [
    {
     "name": "stderr",
     "output_type": "stream",
     "text": [
      "100%|██████████| 4646/4646 [38:42<00:00,  2.00it/s]\n"
     ]
    }
   ],
   "source": [
    "road_names = []\n",
    "for i in tqdm(range(vehic.count())):\n",
    "    road_names.append(road_from_coord(vehic.collect()[i]['latitude'],vehic.collect()[i]['longitude']))"
   ]
  },
  {
   "cell_type": "markdown",
   "id": "every-oakland",
   "metadata": {},
   "source": [
    "__Add them to the df__"
   ]
  },
  {
   "cell_type": "code",
   "execution_count": 8,
   "id": "extensive-crystal",
   "metadata": {},
   "outputs": [],
   "source": [
    "row = Row(\"road_name\")\n",
    "rdd = spark.sparkContext.parallelize(road_names)\n",
    "rf=rdd.map(row).toDF()\n",
    "\n",
    "vehic=vehic.withColumn('row_index', row_number().over(Window.orderBy(monotonically_increasing_id())))\n",
    "rf=rf.withColumn('row_index', row_number().over(Window.orderBy(monotonically_increasing_id())))\n",
    "\n",
    "vehic = vehic.join(rf, [\"row_index\"],how=\"inner\").drop(\"row_index\")"
   ]
  },
  {
   "cell_type": "code",
   "execution_count": 9,
   "id": "coral-recruitment",
   "metadata": {},
   "outputs": [
    {
     "name": "stdout",
     "output_type": "stream",
     "text": [
      "+-------------+-------------+------------------+-------------------+----------+---------------+--------------------+\n",
      "|accelerometer| datetime_utc|          latitude|          longitude|vehicle_id|   vehicle_type|           road_name|\n",
      "+-------------+-------------+------------------+-------------------+----------+---------------+--------------------+\n",
      "|          166|1.588490942E9| 40.57007465863976|-3.6071938480844157|  9263 QVR|           taxi|Avenida Puente Cu...|\n",
      "|          133|1.588489965E9| 40.44546287335486|-3.5125486436404882|  2895 YDK|            bus|Plaza de los Plan...|\n",
      "|          162|1.588490498E9| 40.30815660225567| -3.909501918887368|  6030 ZFZ|private_vehicle|Autovía del Suroeste|\n",
      "|            8|1.588490703E9| 40.47042101938655|-3.4346389045623913|  9731 WXJ|          truck|Avenida de los Pr...|\n",
      "|           56|1.588490768E9| 40.41651432933575| -3.916999450399277|  3719 XBS|            bus|Carretera de Boad...|\n",
      "|           13|1.588490117E9| 40.42268107917671| -3.482537435543491|  8147 BPF|private_vehicle|Vereda del Camino...|\n",
      "|          119|1.588490066E9| 40.55716134032274| -3.633252828413418|  5823 WMS|            bus|Avenida Antonio M...|\n",
      "|          164| 1.58848948E9| 40.44211686617688|-3.8296335336151293|  9004 SWS|          truck|                M-40|\n",
      "|           10|1.588489499E9|40.278834809179024|-3.8680087495362443|  4990 FYZ|          truck|Camino Vecinal de...|\n",
      "|           37|1.588489514E9| 40.55624580290674| -3.830169858736617|  3800 BYQ|           taxi|   Camino de Sacedón|\n",
      "|          158|1.588490885E9|40.365424474175065|-3.5055162695912654|  2438 ZHK|          truck|Camino Particular...|\n",
      "|          137|1.588490993E9| 40.45153290902815|-3.7322600335322087|  1898 VRM|private_vehicle|Calle Profesor Ju...|\n",
      "|          161|1.588489556E9| 40.34332621872282|-3.6009947179145136|  7866 DTJ|           taxi|                M-50|\n",
      "|           88|1.588490928E9|40.296686171830316| -3.730661821063543|  2895 KQB|private_vehicle|Paseo de John Lennon|\n",
      "|           71|1.588489555E9|40.295571690880024| -3.822781484677027|  3967 MRN|           taxi|Calle de las Azuc...|\n",
      "|           80|1.588490419E9|40.555456356417395|-3.5098996785802057|  2093 FTY|            bus|               M-100|\n",
      "|           60|1.588490967E9| 40.24278794581995|-3.8752882313121058|  6922 MQT|private_vehicle|               AP-41|\n",
      "|          162|1.588489669E9|40.608376368138984| -3.732645244041724|  0711 SFN|           taxi|GR-124;Senda Real...|\n",
      "|          154|1.588489679E9|40.227314141490545|-3.8213862707865354|  3255 YWG|          truck|Camino de Griñón ...|\n",
      "|           29|1.588490058E9|40.618205498772795|-3.8861302158396955|  8873 QHM|private_vehicle|Cordel de Cerrast...|\n",
      "+-------------+-------------+------------------+-------------------+----------+---------------+--------------------+\n",
      "only showing top 20 rows\n",
      "\n"
     ]
    }
   ],
   "source": [
    "vehic.show()"
   ]
  },
  {
   "cell_type": "markdown",
   "id": "caroline-hygiene",
   "metadata": {},
   "source": [
    "**Join Both Feeds**"
   ]
  },
  {
   "cell_type": "code",
   "execution_count": 10,
   "id": "personalized-politics",
   "metadata": {},
   "outputs": [],
   "source": [
    "df=vehic.join(roads, ['road_name'], how=\"inner\")"
   ]
  },
  {
   "cell_type": "code",
   "execution_count": 11,
   "id": "familiar-significance",
   "metadata": {},
   "outputs": [
    {
     "name": "stdout",
     "output_type": "stream",
     "text": [
      "+--------------------+-------------+-------------+------------------+-------------------+----------+---------------+------------+---------+------------+\n",
      "|           road_name|accelerometer| datetime_utc|          latitude|          longitude|vehicle_id|   vehicle_type|has_bus_lane|min_speed|number_lanes|\n",
      "+--------------------+-------------+-------------+------------------+-------------------+----------+---------------+------------+---------+------------+\n",
      "|Avenida Puente Cu...|          166|1.588490942E9| 40.57007465863976|-3.6071938480844157|  9263 QVR|           taxi|           1|       50|           1|\n",
      "|Plaza de los Plan...|          133|1.588489965E9| 40.44546287335486|-3.5125486436404882|  2895 YDK|            bus|           1|       50|           4|\n",
      "|Autovía del Suroeste|          162|1.588490498E9| 40.30815660225567| -3.909501918887368|  6030 ZFZ|private_vehicle|           0|       60|           3|\n",
      "|Avenida de los Pr...|            8|1.588490703E9| 40.47042101938655|-3.4346389045623913|  9731 WXJ|          truck|           1|       25|           3|\n",
      "|Carretera de Boad...|           56|1.588490768E9| 40.41651432933575| -3.916999450399277|  3719 XBS|            bus|           1|       25|           1|\n",
      "|Vereda del Camino...|           13|1.588490117E9| 40.42268107917671| -3.482537435543491|  8147 BPF|private_vehicle|           0|       60|           4|\n",
      "|Avenida Antonio M...|          119|1.588490066E9| 40.55716134032274| -3.633252828413418|  5823 WMS|            bus|           0|       60|           1|\n",
      "|                M-40|          164| 1.58848948E9| 40.44211686617688|-3.8296335336151293|  9004 SWS|          truck|           0|       50|           3|\n",
      "|Camino Vecinal de...|           10|1.588489499E9|40.278834809179024|-3.8680087495362443|  4990 FYZ|          truck|           1|       25|           3|\n",
      "|   Camino de Sacedón|           37|1.588489514E9| 40.55624580290674| -3.830169858736617|  3800 BYQ|           taxi|           1|       25|           3|\n",
      "|Camino Particular...|          158|1.588490885E9|40.365424474175065|-3.5055162695912654|  2438 ZHK|          truck|           0|       60|           3|\n",
      "|Calle Profesor Ju...|          137|1.588490993E9| 40.45153290902815|-3.7322600335322087|  1898 VRM|private_vehicle|           0|       60|           1|\n",
      "|                M-50|          161|1.588489556E9| 40.34332621872282|-3.6009947179145136|  7866 DTJ|           taxi|           1|       50|           1|\n",
      "|Paseo de John Lennon|           88|1.588490928E9|40.296686171830316| -3.730661821063543|  2895 KQB|private_vehicle|           1|       60|           1|\n",
      "|Calle de las Azuc...|           71|1.588489555E9|40.295571690880024| -3.822781484677027|  3967 MRN|           taxi|           0|       25|           3|\n",
      "|               M-100|           80|1.588490419E9|40.555456356417395|-3.5098996785802057|  2093 FTY|            bus|           1|       25|           4|\n",
      "|               AP-41|           60|1.588490967E9| 40.24278794581995|-3.8752882313121058|  6922 MQT|private_vehicle|           0|       50|           4|\n",
      "|GR-124;Senda Real...|          162|1.588489669E9|40.608376368138984| -3.732645244041724|  0711 SFN|           taxi|           0|       60|           3|\n",
      "|Camino de Griñón ...|          154|1.588489679E9|40.227314141490545|-3.8213862707865354|  3255 YWG|          truck|           0|       50|           2|\n",
      "|Cordel de Cerrast...|           29|1.588490058E9|40.618205498772795|-3.8861302158396955|  8873 QHM|private_vehicle|           0|       25|           3|\n",
      "+--------------------+-------------+-------------+------------------+-------------------+----------+---------------+------------+---------+------------+\n",
      "only showing top 20 rows\n",
      "\n"
     ]
    }
   ],
   "source": [
    "df.show()"
   ]
  },
  {
   "cell_type": "markdown",
   "id": "proof-asthma",
   "metadata": {},
   "source": [
    "**Define Traffic Location**\n",
    "\n",
    "If accelerometer < min_speed and count(vehicle_id) > (50*number_lanes) we declare there is traffic"
   ]
  },
  {
   "cell_type": "code",
   "execution_count": 23,
   "id": "unlimited-throw",
   "metadata": {},
   "outputs": [
    {
     "name": "stdout",
     "output_type": "stream",
     "text": [
      "+--------------------+-----------------+\n",
      "|           road_name|count(vehicle_id)|\n",
      "+--------------------+-----------------+\n",
      "|  Camino del Espinar|                3|\n",
      "|Carretera Particu...|                2|\n",
      "|Avenida de la Pes...|                1|\n",
      "| Calle Enrique Casas|                1|\n",
      "|Calle de Valdemor...|                1|\n",
      "|                M-50|               28|\n",
      "| Calle de la Romería|                1|\n",
      "|   Avenida de Burgos|                3|\n",
      "|               M-301|                6|\n",
      "| Cañada de Matamuñoz|                4|\n",
      "|Carretera camino ...|                3|\n",
      "|   Avenida de Marsil|                1|\n",
      "|Avenida de la Ber...|                2|\n",
      "|                M-45|               10|\n",
      "|      Calle Marañosa|                3|\n",
      "|Calle de Extremadura|                1|\n",
      "|      Calle Bulgaria|                1|\n",
      "|   Avenida del Pardo|                3|\n",
      "|   Avenida de Aragón|                1|\n",
      "|Calle de Dionisio...|                1|\n",
      "+--------------------+-----------------+\n",
      "only showing top 20 rows\n",
      "\n"
     ]
    }
   ],
   "source": [
    "df.createOrReplaceTempView(\"df\")\n",
    "results = spark.sql(\"select road_name, count(vehicle_id) from df \\\n",
    "                    where accelerometer < min_speed \\\n",
    "                    group by road_name, number_lanes, has_bus_lane\\\n",
    "                    having count(vehicle_id) > (50*(number_lanes-has_bus_lane))\")\n",
    "results.show()"
   ]
  },
  {
   "cell_type": "markdown",
   "id": "sonic-background",
   "metadata": {},
   "source": [
    "__Download Results__\n",
    "\n",
    "https://community.cloudera.com/t5/Support-Questions/How-to-save-all-the-output-of-pyspark-sql-query-into-a-text/td-p/204560"
   ]
  },
  {
   "cell_type": "code",
   "execution_count": 20,
   "id": "representative-valve",
   "metadata": {},
   "outputs": [],
   "source": [
    "#results.coalesce(1).write.csv(\"results_6000.csv\")\n",
    "results.write.csv(\"td_results_6000.csv\")"
   ]
  },
  {
   "cell_type": "markdown",
   "id": "increasing-orlando",
   "metadata": {},
   "source": [
    "__Open Results__"
   ]
  },
  {
   "cell_type": "code",
   "execution_count": 27,
   "id": "bizarre-garage",
   "metadata": {},
   "outputs": [],
   "source": [
    "import pandas as pd\n",
    "myres = pd.read_csv(\"td_results_6000.csv\", names=['road_name', 'number_vehicles'])"
   ]
  },
  {
   "cell_type": "code",
   "execution_count": 28,
   "id": "appropriate-journey",
   "metadata": {},
   "outputs": [
    {
     "data": {
      "text/html": [
       "<div>\n",
       "<style scoped>\n",
       "    .dataframe tbody tr th:only-of-type {\n",
       "        vertical-align: middle;\n",
       "    }\n",
       "\n",
       "    .dataframe tbody tr th {\n",
       "        vertical-align: top;\n",
       "    }\n",
       "\n",
       "    .dataframe thead th {\n",
       "        text-align: right;\n",
       "    }\n",
       "</style>\n",
       "<table border=\"1\" class=\"dataframe\">\n",
       "  <thead>\n",
       "    <tr style=\"text-align: right;\">\n",
       "      <th></th>\n",
       "      <th>road_name</th>\n",
       "      <th>number_vehicles</th>\n",
       "    </tr>\n",
       "  </thead>\n",
       "  <tbody>\n",
       "    <tr>\n",
       "      <th>0</th>\n",
       "      <td>Camino del Espinar</td>\n",
       "      <td>3</td>\n",
       "    </tr>\n",
       "    <tr>\n",
       "      <th>1</th>\n",
       "      <td>Carretera Particular de la Zarzuela</td>\n",
       "      <td>2</td>\n",
       "    </tr>\n",
       "    <tr>\n",
       "      <th>2</th>\n",
       "      <td>Avenida de la Pesadilla</td>\n",
       "      <td>1</td>\n",
       "    </tr>\n",
       "    <tr>\n",
       "      <th>3</th>\n",
       "      <td>Calle Enrique Casas</td>\n",
       "      <td>1</td>\n",
       "    </tr>\n",
       "    <tr>\n",
       "      <th>4</th>\n",
       "      <td>Calle de Valdemorillo</td>\n",
       "      <td>1</td>\n",
       "    </tr>\n",
       "    <tr>\n",
       "      <th>...</th>\n",
       "      <td>...</td>\n",
       "      <td>...</td>\n",
       "    </tr>\n",
       "    <tr>\n",
       "      <th>84</th>\n",
       "      <td>enlace con M-40</td>\n",
       "      <td>1</td>\n",
       "    </tr>\n",
       "    <tr>\n",
       "      <th>85</th>\n",
       "      <td>Calle XX</td>\n",
       "      <td>1</td>\n",
       "    </tr>\n",
       "    <tr>\n",
       "      <th>86</th>\n",
       "      <td>Camino del Esparragal</td>\n",
       "      <td>1</td>\n",
       "    </tr>\n",
       "    <tr>\n",
       "      <th>87</th>\n",
       "      <td>Calle de los Morales</td>\n",
       "      <td>1</td>\n",
       "    </tr>\n",
       "    <tr>\n",
       "      <th>88</th>\n",
       "      <td>Calle de las Acacias</td>\n",
       "      <td>1</td>\n",
       "    </tr>\n",
       "  </tbody>\n",
       "</table>\n",
       "<p>89 rows × 2 columns</p>\n",
       "</div>"
      ],
      "text/plain": [
       "                              road_name  number_vehicles\n",
       "0                    Camino del Espinar                3\n",
       "1   Carretera Particular de la Zarzuela                2\n",
       "2               Avenida de la Pesadilla                1\n",
       "3                   Calle Enrique Casas                1\n",
       "4                 Calle de Valdemorillo                1\n",
       "..                                  ...              ...\n",
       "84                      enlace con M-40                1\n",
       "85                             Calle XX                1\n",
       "86                Camino del Esparragal                1\n",
       "87                 Calle de los Morales                1\n",
       "88                 Calle de las Acacias                1\n",
       "\n",
       "[89 rows x 2 columns]"
      ]
     },
     "execution_count": 28,
     "metadata": {},
     "output_type": "execute_result"
    }
   ],
   "source": [
    "myres"
   ]
  }
 ],
 "metadata": {
  "kernelspec": {
   "display_name": "Python 3",
   "language": "python",
   "name": "python3"
  },
  "language_info": {
   "codemirror_mode": {
    "name": "ipython",
    "version": 3
   },
   "file_extension": ".py",
   "mimetype": "text/x-python",
   "name": "python",
   "nbconvert_exporter": "python",
   "pygments_lexer": "ipython3",
   "version": "3.8.6"
  }
 },
 "nbformat": 4,
 "nbformat_minor": 5
}
